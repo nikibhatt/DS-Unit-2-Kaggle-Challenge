{
  "nbformat": 4,
  "nbformat_minor": 0,
  "metadata": {
    "colab": {
      "name": "Walkie_talkie_week6_DS9_trees _man_and_machine_modelling.ipynb",
      "provenance": [],
      "collapsed_sections": [],
      "include_colab_link": true
    },
    "kernelspec": {
      "display_name": "Python 3",
      "language": "python",
      "name": "python3"
    },
    "language_info": {
      "codemirror_mode": {
        "name": "ipython",
        "version": 3
      },
      "file_extension": ".py",
      "mimetype": "text/x-python",
      "name": "python",
      "nbconvert_exporter": "python",
      "pygments_lexer": "ipython3",
      "version": "3.7.3"
    }
  },
  "cells": [
    {
      "cell_type": "markdown",
      "metadata": {
        "id": "view-in-github",
        "colab_type": "text"
      },
      "source": [
        "<a href=\"https://colab.research.google.com/github/nikibhatt/DS-Unit-2-Kaggle-Challenge/blob/master/NB_Walkie_talkie_week6_DS9_trees__man_and_machine_modelling.ipynb\" target=\"_parent\"><img src=\"https://colab.research.google.com/assets/colab-badge.svg\" alt=\"Open In Colab\"/></a>"
      ]
    },
    {
      "cell_type": "markdown",
      "metadata": {
        "colab_type": "text",
        "id": "7IXUfiQ2UKj6"
      },
      "source": [
        "Lambda School Data Science, Unit 2: Predictive Modeling\n",
        "\n",
        "# Regression & Classification, can you talk the talk?\n",
        "\n",
        "## Walkie Talkie \n",
        "\n",
        "\n",
        "Your group will consist of a 4 person team. Your mission simple. Your success, critical. Answer questions relating to content covered in Unit 2 in the allotted time.\n",
        "\n",
        "\n",
        "Each team member will have a designated role to fulfill.\n",
        "\n",
        "The writer - Your Job is to record the answers for the group. (You can only write what all members have discussed and agreed to.)\n",
        "\n",
        "The thinker - Your role is to provide your thoughts for the questions.\n",
        "\n",
        "The FTE (focus task executive) - Keep the group on task. Personal role: have all questions answered, you will also act as mediator, pushing the group forward if they get stuck.\n",
        "\n",
        "The artist - For questions answered, your role is to find a picture that make a connection between the question and your answer (you may use multiple pictures to answer).\n",
        "\n",
        "Please answer each question to the best of your ability as a group. Share your notebook or google doc with your awesome DS9 SL-Guillermo. Remember to put your name and your teammates’ names on there, next to their respective roles. \n",
        "\n",
        "###Q1: What is purpose of a pipeline? How does it prepare a model to be fitted? What happens when you fit a model? What are the similarities and differences of One Hot encoding and Ordinal encoding?\n",
        "\n",
        "###Q2: What is the meaning of the saying “Garbage in, Garbage out”? How do data cleaning, feature engineering, and model preproccessing all play a part?\n",
        "\n",
        "###Q3: Explain the similarities and differences of the models we have explored so far: Decision tree, Random forest, Logistic regression, Linear regression. Express the pro’s and con’s of each.\n",
        "\n",
        "###Q4: How can you know that you can be confident in your model? Think of validation techniques as well as accuracy scores, R^2, explanatory and exploratory visuals. You can use Random forest from this week as the backbone of your explanation.\n",
        "\n",
        "\n",
        "\n",
        "#DIG DEEP HERE, answer these questions in such a way that your answers would make a potential employer impressed with the thoughtfulness of your answers, your mother would be proud of her child, and most importantly, you can be happy with it yourself!\n",
        "\n",
        "\n"
      ]
    },
    {
      "cell_type": "markdown",
      "metadata": {
        "id": "9C8meOGEUiHI",
        "colab_type": "text"
      },
      "source": [
        "Note: the code below is simply a back drop to faciliate your thinking, and is not required to read to complete this activity. "
      ]
    },
    {
      "cell_type": "code",
      "metadata": {
        "colab_type": "code",
        "id": "o9eSnDYhUGD7",
        "colab": {
          "base_uri": "https://localhost:8080/",
          "height": 272
        },
        "outputId": "03d442d0-dfbc-46f4-c8c1-3d4838b8bd68"
      },
      "source": [
        "import sys\n",
        "\n",
        "# If you're on Colab:\n",
        "if 'google.colab' in sys.modules:\n",
        "    DATA_PATH = 'https://raw.githubusercontent.com/LambdaSchool/DS-Unit-2-Kaggle-Challenge/master/data/'\n",
        "    !pip install category_encoders==2.*\n",
        "\n",
        "# If you're working locally:\n",
        "else:\n",
        "    DATA_PATH = '../data/'"
      ],
      "execution_count": 1,
      "outputs": [
        {
          "output_type": "stream",
          "text": [
            "Collecting category_encoders==2.*\n",
            "\u001b[?25l  Downloading https://files.pythonhosted.org/packages/a0/52/c54191ad3782de633ea3d6ee3bb2837bda0cf3bc97644bb6375cf14150a0/category_encoders-2.1.0-py2.py3-none-any.whl (100kB)\n",
            "\r\u001b[K     |███▎                            | 10kB 16.8MB/s eta 0:00:01\r\u001b[K     |██████▌                         | 20kB 1.8MB/s eta 0:00:01\r\u001b[K     |█████████▉                      | 30kB 2.5MB/s eta 0:00:01\r\u001b[K     |█████████████                   | 40kB 1.7MB/s eta 0:00:01\r\u001b[K     |████████████████▍               | 51kB 2.1MB/s eta 0:00:01\r\u001b[K     |███████████████████▋            | 61kB 2.5MB/s eta 0:00:01\r\u001b[K     |██████████████████████▉         | 71kB 2.9MB/s eta 0:00:01\r\u001b[K     |██████████████████████████▏     | 81kB 3.2MB/s eta 0:00:01\r\u001b[K     |█████████████████████████████▍  | 92kB 3.6MB/s eta 0:00:01\r\u001b[K     |████████████████████████████████| 102kB 2.1MB/s \n",
            "\u001b[?25hRequirement already satisfied: numpy>=1.11.3 in /usr/local/lib/python3.6/dist-packages (from category_encoders==2.*) (1.17.3)\n",
            "Requirement already satisfied: patsy>=0.4.1 in /usr/local/lib/python3.6/dist-packages (from category_encoders==2.*) (0.5.1)\n",
            "Requirement already satisfied: scipy>=0.19.0 in /usr/local/lib/python3.6/dist-packages (from category_encoders==2.*) (1.3.1)\n",
            "Requirement already satisfied: scikit-learn>=0.20.0 in /usr/local/lib/python3.6/dist-packages (from category_encoders==2.*) (0.21.3)\n",
            "Requirement already satisfied: statsmodels>=0.6.1 in /usr/local/lib/python3.6/dist-packages (from category_encoders==2.*) (0.10.1)\n",
            "Requirement already satisfied: pandas>=0.21.1 in /usr/local/lib/python3.6/dist-packages (from category_encoders==2.*) (0.25.3)\n",
            "Requirement already satisfied: six in /usr/local/lib/python3.6/dist-packages (from patsy>=0.4.1->category_encoders==2.*) (1.12.0)\n",
            "Requirement already satisfied: joblib>=0.11 in /usr/local/lib/python3.6/dist-packages (from scikit-learn>=0.20.0->category_encoders==2.*) (0.14.0)\n",
            "Requirement already satisfied: pytz>=2017.2 in /usr/local/lib/python3.6/dist-packages (from pandas>=0.21.1->category_encoders==2.*) (2018.9)\n",
            "Requirement already satisfied: python-dateutil>=2.6.1 in /usr/local/lib/python3.6/dist-packages (from pandas>=0.21.1->category_encoders==2.*) (2.6.1)\n",
            "Installing collected packages: category-encoders\n",
            "Successfully installed category-encoders-2.1.0\n"
          ],
          "name": "stdout"
        }
      ]
    },
    {
      "cell_type": "code",
      "metadata": {
        "colab_type": "code",
        "id": "QJBD4ruICm1m",
        "colab": {
          "base_uri": "https://localhost:8080/",
          "height": 34
        },
        "outputId": "48b6d46b-db5d-42a6-a0c0-49d3ae04d153"
      },
      "source": [
        "import pandas as pd\n",
        "from sklearn.model_selection import train_test_split\n",
        "\n",
        "train = pd.merge(pd.read_csv(DATA_PATH+'waterpumps/train_features.csv'), \n",
        "                 pd.read_csv(DATA_PATH+'waterpumps/train_labels.csv'))\n",
        "test = pd.read_csv(DATA_PATH+'waterpumps/test_features.csv')\n",
        "sample_submission = pd.read_csv(DATA_PATH+'waterpumps/sample_submission.csv')\n",
        "\n",
        "train.shape, test.shape"
      ],
      "execution_count": 2,
      "outputs": [
        {
          "output_type": "execute_result",
          "data": {
            "text/plain": [
              "((59400, 41), (14358, 40))"
            ]
          },
          "metadata": {
            "tags": []
          },
          "execution_count": 2
        }
      ]
    },
    {
      "cell_type": "markdown",
      "metadata": {
        "colab_type": "text",
        "id": "AXYFvvqhSwGA"
      },
      "source": [
        "## Try Ordinal Encoding. Try a Random Forest Classifier."
      ]
    },
    {
      "cell_type": "code",
      "metadata": {
        "colab_type": "code",
        "id": "mawjhaoLSv0Q",
        "colab": {}
      },
      "source": [
        "import category_encoders as ce\n",
        "import numpy as np\n",
        "from sklearn.impute import SimpleImputer\n",
        "from sklearn.ensemble import RandomForestClassifier\n",
        "from sklearn.model_selection import train_test_split\n",
        "from sklearn.pipeline import make_pipeline\n",
        "\n",
        "\n",
        "# Split train into train & val\n",
        "train, val = train_test_split(train, train_size=0.80, test_size=0.20, \n",
        "                              stratify=train['status_group'], random_state=42)\n",
        "\n",
        "\n",
        "def wrangle(X):\n",
        "    \"\"\"Wrangle train, validate, and test sets in the same way\"\"\"\n",
        "    \n",
        "    # Prevent SettingWithCopyWarning\n",
        "    X = X.copy()\n",
        "    \n",
        "    # About 3% of the time, latitude has small values near zero,\n",
        "    # outside Tanzania, so we'll treat these values like zero.\n",
        "    X['latitude'] = X['latitude'].replace(-2e-08, 0)\n",
        "    \n",
        "    # When columns have zeros and shouldn't, they are like null values.\n",
        "    # So we will replace the zeros with nulls, and impute missing values later.\n",
        "    # Also create a \"missing indicator\" column, because the fact that\n",
        "    # values are missing may be a predictive signal.\n",
        "    cols_with_zeros = ['longitude', 'latitude', 'construction_year', \n",
        "                       'gps_height', 'population']\n",
        "    for col in cols_with_zeros:\n",
        "        X[col] = X[col].replace(0, np.nan)\n",
        "        X[col+'_MISSING'] = X[col].isnull()\n",
        "            \n",
        "    # Drop duplicate columns\n",
        "    duplicates = ['quantity_group', 'payment_type']\n",
        "    X = X.drop(columns=duplicates)\n",
        "    \n",
        "    # Drop recorded_by (never varies) and id (always varies, random)\n",
        "    unusable_variance = ['recorded_by', 'id']\n",
        "    X = X.drop(columns=unusable_variance)\n",
        "    \n",
        "    # Convert date_recorded to datetime\n",
        "    X['date_recorded'] = pd.to_datetime(X['date_recorded'], infer_datetime_format=True)\n",
        "    \n",
        "    # Extract components from date_recorded, then drop the original column\n",
        "    X['year_recorded'] = X['date_recorded'].dt.year\n",
        "    X['month_recorded'] = X['date_recorded'].dt.month\n",
        "    X['day_recorded'] = X['date_recorded'].dt.day\n",
        "    X = X.drop(columns='date_recorded')\n",
        "    \n",
        "    # Engineer feature: how many years from construction_year to date_recorded\n",
        "    X['years'] = X['year_recorded'] - X['construction_year']\n",
        "    X['years_MISSING'] = X['years'].isnull()\n",
        "    \n",
        "    # return the wrangled dataframe\n",
        "    return X\n",
        "\n",
        "train = wrangle(train)\n",
        "val = wrangle(val)\n",
        "test = wrangle(test)"
      ],
      "execution_count": 0,
      "outputs": []
    },
    {
      "cell_type": "code",
      "metadata": {
        "colab_type": "code",
        "id": "q9_YIGBITB5N",
        "outputId": "4e0a18c3-80ba-4c9a-adf1-3f56028f4658",
        "colab": {
          "base_uri": "https://localhost:8080/",
          "height": 34
        }
      },
      "source": [
        "# Arrange data into X features matrix and y target vector\n",
        "target = 'status_group'\n",
        "X_train = train.drop(columns=target)\n",
        "y_train = train[target]\n",
        "X_val = val.drop(columns=target)\n",
        "y_val = val[target]\n",
        "X_test = test\n",
        "\n",
        "pipeline = make_pipeline(\n",
        "    ce.OrdinalEncoder(), \n",
        "    SimpleImputer(strategy='median'), \n",
        "    RandomForestClassifier(n_estimators=100, random_state=42, n_jobs=-1)\n",
        ")\n",
        "\n",
        "# Fit on train, score on val\n",
        "pipeline.fit(X_train, y_train)\n",
        "print('Validation Accuracy', pipeline.score(X_val, y_val))"
      ],
      "execution_count": 4,
      "outputs": [
        {
          "output_type": "stream",
          "text": [
            "Validation Accuracy 0.8135521885521886\n"
          ],
          "name": "stdout"
        }
      ]
    },
    {
      "cell_type": "markdown",
      "metadata": {
        "colab_type": "text",
        "id": "PVpu_LyaUAdf"
      },
      "source": [
        "## Get and plot your feature importances"
      ]
    },
    {
      "cell_type": "code",
      "metadata": {
        "colab_type": "code",
        "id": "5XZXZuIWT_6q",
        "outputId": "11c1ab8e-3323-4088-e10c-20441f88a70d",
        "colab": {
          "base_uri": "https://localhost:8080/",
          "height": 607
        }
      },
      "source": [
        "# Get feature importances\n",
        "rf = pipeline.named_steps['randomforestclassifier']\n",
        "importances = pd.Series(rf.feature_importances_, X_train.columns)\n",
        "\n",
        "# Plot feature importances\n",
        "%matplotlib inline\n",
        "import matplotlib.pyplot as plt\n",
        "\n",
        "n = 20\n",
        "plt.figure(figsize=(10,n/2))\n",
        "plt.title(f'Top {n} features')\n",
        "importances.sort_values()[-n:].plot.barh(color='grey');"
      ],
      "execution_count": 5,
      "outputs": [
        {
          "output_type": "display_data",
          "data": {
            "image/png": "[encoded data removed]",
            "text/plain": [
              "<Figure size 720x720 with 1 Axes>"
            ]
          },
          "metadata": {
            "tags": []
          }
        }
      ]
    },
    {
      "cell_type": "markdown",
      "metadata": {
        "colab_type": "text",
        "id": "mOUTNnfnUpLw"
      },
      "source": [
        "## Try other [categorical encodings](https://contrib.scikit-learn.org/categorical-encoding/)"
      ]
    },
    {
      "cell_type": "code",
      "metadata": {
        "colab_type": "code",
        "id": "szb1-hE6hCo-",
        "outputId": "6333c35e-aee9-417b-bd21-e91d0513f3f7",
        "colab": {
          "base_uri": "https://localhost:8080/",
          "height": 867
        }
      },
      "source": [
        "for min_samples_leaf in [1, 10, 100, 1000]:\n",
        "    for smoothing in [1, 10, 100, 1000]:\n",
        "        print(f'TargetEncoder(min_samples_leaf={min_samples_leaf}, smoothing={smoothing})')\n",
        "        encoder = ce.TargetEncoder(min_samples_leaf=min_samples_leaf, smoothing=smoothing)\n",
        "        X_train_encoded = encoder.fit_transform(X_train, y_train=='functional')\n",
        "        X_val_encoded = encoder.transform(X_val, y_val=='functional')\n",
        "\n",
        "        pipeline = make_pipeline(\n",
        "            SimpleImputer(strategy='median'), \n",
        "            RandomForestClassifier(n_estimators=100, random_state=42, n_jobs=-1)\n",
        "        )\n",
        "\n",
        "        pipeline.fit(X_train_encoded, y_train)\n",
        "        print('Validation Accuracy', pipeline.score(X_val_encoded, y_val), '\\n')"
      ],
      "execution_count": 6,
      "outputs": [
        {
          "output_type": "stream",
          "text": [
            "TargetEncoder(min_samples_leaf=1, smoothing=1)\n",
            "Validation Accuracy 0.7839225589225589 \n",
            "\n",
            "TargetEncoder(min_samples_leaf=1, smoothing=10)\n",
            "Validation Accuracy 0.7853535353535354 \n",
            "\n",
            "TargetEncoder(min_samples_leaf=1, smoothing=100)\n",
            "Validation Accuracy 0.782070707070707 \n",
            "\n",
            "TargetEncoder(min_samples_leaf=1, smoothing=1000)\n",
            "Validation Accuracy 0.7829124579124579 \n",
            "\n",
            "TargetEncoder(min_samples_leaf=10, smoothing=1)\n",
            "Validation Accuracy 0.793939393939394 \n",
            "\n",
            "TargetEncoder(min_samples_leaf=10, smoothing=10)\n",
            "Validation Accuracy 0.7888047138047138 \n",
            "\n",
            "TargetEncoder(min_samples_leaf=10, smoothing=100)\n",
            "Validation Accuracy 0.7840909090909091 \n",
            "\n",
            "TargetEncoder(min_samples_leaf=10, smoothing=1000)\n",
            "Validation Accuracy 0.7842592592592592 \n",
            "\n",
            "TargetEncoder(min_samples_leaf=100, smoothing=1)\n",
            "Validation Accuracy 0.8122895622895623 \n",
            "\n",
            "TargetEncoder(min_samples_leaf=100, smoothing=10)\n",
            "Validation Accuracy 0.7934343434343434 \n",
            "\n",
            "TargetEncoder(min_samples_leaf=100, smoothing=100)\n",
            "Validation Accuracy 0.7838383838383839 \n",
            "\n",
            "TargetEncoder(min_samples_leaf=100, smoothing=1000)\n",
            "Validation Accuracy 0.7852693602693602 \n",
            "\n",
            "TargetEncoder(min_samples_leaf=1000, smoothing=1)\n"
          ],
          "name": "stdout"
        },
        {
          "output_type": "stream",
          "text": [
            "/usr/local/lib/python3.6/dist-packages/pandas/core/series.py:856: RuntimeWarning: overflow encountered in exp\n",
            "  result = getattr(ufunc, method)(*inputs, **kwargs)\n"
          ],
          "name": "stderr"
        },
        {
          "output_type": "stream",
          "text": [
            "Validation Accuracy 0.8085858585858586 \n",
            "\n",
            "TargetEncoder(min_samples_leaf=1000, smoothing=10)\n",
            "Validation Accuracy 0.8098484848484848 \n",
            "\n",
            "TargetEncoder(min_samples_leaf=1000, smoothing=100)\n",
            "Validation Accuracy 0.7884680134680134 \n",
            "\n",
            "TargetEncoder(min_samples_leaf=1000, smoothing=1000)\n",
            "Validation Accuracy 0.7835858585858586 \n",
            "\n"
          ],
          "name": "stdout"
        }
      ]
    }
  ]
}